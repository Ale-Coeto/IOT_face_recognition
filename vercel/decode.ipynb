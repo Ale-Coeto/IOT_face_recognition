{
 "cells": [
  {
   "cell_type": "markdown",
   "metadata": {},
   "source": [
    "Make an image to test"
   ]
  },
  {
   "cell_type": "code",
   "execution_count": 10,
   "metadata": {},
   "outputs": [
    {
     "name": "stdout",
     "output_type": "stream",
     "text": [
      "iVBORw0KGgoAAAANSUhEUgAAAMgAAADICAIAAAAiOjnJAAACK0lEQVR4nO3dsQ0CUQwFQT66/ls2FVwEKwOaqeAFK6c+M/OAT3tuD+A/CYuEsEgIi4SwSAiLhLBICIuEsEgIi4SwSAiLhLBICIuEsEgIi4SwSAiLhLBICIuEsEgIi4SwSAiLhLBICIuEsEgIi4SwSAiLhLBICIuEsEgIi4SwSAiLhLBICIuEsEgIi4SwSAiLhLBICIuEsEgIi4SwSAiLhLBIXNsDbpyzveCnfN+bXBeLhLBICIuEsEgIi4SwSAiLhLBICIuEsEgIi4SwSAiLhLBICIuEsEgIi4SwSAiLhLBICIuEsEgIi4SwSAiLhLBICIuEsEgIi4SwSAiLhLBICIuEsEgIi4SwSAiLhLBICIuEsEgIi4SwSAiLhLBICIuEsEgIi4SwSAiLhLBICIuEsEgIi4SwSAiLhLBICIuEsEgIi4SwSAiLhLBICIuEsEgIi4SwSAiLhLBICIuEsEgIi4SwSAiLhLBICIuEsEgIi4SwSAiLhLBICIuEsEgIi4SwSAiLhLBICIuEsEgIi4SwSAiLhLBICIuEsEgIi4SwSAiLhLBICIuEsEhc2wNuzGwv4C0uFglhkRAWCWGREBYJYZEQFglhkRAWCWGREBYJYZEQFglhkRAWCWGREBYJYZEQFglhkRAWCWGREBYJYZEQFglhkRAWCWGREBYJYZEQFglhkRAWCWGREBYJYZEQFglhkRAWCWGREBYJYZEQFglhkRAWCWGREBYJYZF4AbmBCI+Yx0moAAAAAElFTkSuQmCC\n"
     ]
    }
   ],
   "source": [
    "from PIL import Image, ImageDraw\n",
    "import io\n",
    "import base64\n",
    "from io import BytesIO\n",
    "\n",
    "# Create a new image with a white background\n",
    "width, height = 200, 200  # Adjust the size as needed\n",
    "image = Image.new(\"RGB\", (width, height), \"white\")\n",
    "\n",
    "# Create a drawing context\n",
    "draw = ImageDraw.Draw(image)\n",
    "\n",
    "# Draw a red rectangle (adjust the coordinates and dimensions as needed)\n",
    "left_top = (50, 50)\n",
    "right_bottom = (150, 150)\n",
    "red = (255, 0, 0)  # RGB color for red\n",
    "draw.rectangle([left_top, right_bottom], fill=red)\n",
    "\n",
    "# Save the image to a BytesIO buffer\n",
    "buffer = BytesIO()\n",
    "image.save(buffer, format=\"PNG\")  # You can adjust the format as needed\n",
    "\n",
    "# Encode the image in base64\n",
    "base64_image = base64.b64encode(buffer.getvalue()).decode(\"utf-8\")\n",
    "print(base64_image)"
   ]
  },
  {
   "cell_type": "markdown",
   "metadata": {},
   "source": []
  },
  {
   "cell_type": "markdown",
   "metadata": {},
   "source": []
  },
  {
   "cell_type": "markdown",
   "metadata": {},
   "source": [
    "Decode a base64 image"
   ]
  },
  {
   "cell_type": "code",
   "execution_count": 2,
   "metadata": {},
   "outputs": [
    {
     "ename": "UnidentifiedImageError",
     "evalue": "cannot identify image file <_io.BytesIO object at 0x10e7e8d60>",
     "output_type": "error",
     "traceback": [
      "\u001b[0;31m---------------------------------------------------------------------------\u001b[0m",
      "\u001b[0;31mUnidentifiedImageError\u001b[0m                    Traceback (most recent call last)",
      "\u001b[1;32m/Users/alecoeto/Documents/GitHub/face_recognition/vercel/decode.ipynb Cell 6\u001b[0m line \u001b[0;36m1\n\u001b[1;32m     <a href='vscode-notebook-cell:/Users/alecoeto/Documents/GitHub/face_recognition/vercel/decode.ipynb#W5sZmlsZQ%3D%3D?line=9'>10</a>\u001b[0m image_bytes \u001b[39m=\u001b[39m base64\u001b[39m.\u001b[39mb64decode(image64)\n\u001b[1;32m     <a href='vscode-notebook-cell:/Users/alecoeto/Documents/GitHub/face_recognition/vercel/decode.ipynb#W5sZmlsZQ%3D%3D?line=11'>12</a>\u001b[0m \u001b[39m# Open the image using Pillow\u001b[39;00m\n\u001b[0;32m---> <a href='vscode-notebook-cell:/Users/alecoeto/Documents/GitHub/face_recognition/vercel/decode.ipynb#W5sZmlsZQ%3D%3D?line=12'>13</a>\u001b[0m image \u001b[39m=\u001b[39m Image\u001b[39m.\u001b[39;49mopen(BytesIO(image_bytes))\n\u001b[1;32m     <a href='vscode-notebook-cell:/Users/alecoeto/Documents/GitHub/face_recognition/vercel/decode.ipynb#W5sZmlsZQ%3D%3D?line=14'>15</a>\u001b[0m \u001b[39m# Display or save the image as needed\u001b[39;00m\n\u001b[1;32m     <a href='vscode-notebook-cell:/Users/alecoeto/Documents/GitHub/face_recognition/vercel/decode.ipynb#W5sZmlsZQ%3D%3D?line=15'>16</a>\u001b[0m image\u001b[39m.\u001b[39mshow()\n",
      "File \u001b[0;32m/Library/Frameworks/Python.framework/Versions/3.10/lib/python3.10/site-packages/PIL/Image.py:3298\u001b[0m, in \u001b[0;36mopen\u001b[0;34m(fp, mode, formats)\u001b[0m\n\u001b[1;32m   3296\u001b[0m     warnings\u001b[39m.\u001b[39mwarn(message)\n\u001b[1;32m   3297\u001b[0m msg \u001b[39m=\u001b[39m \u001b[39m\"\u001b[39m\u001b[39mcannot identify image file \u001b[39m\u001b[39m%r\u001b[39;00m\u001b[39m\"\u001b[39m \u001b[39m%\u001b[39m (filename \u001b[39mif\u001b[39;00m filename \u001b[39melse\u001b[39;00m fp)\n\u001b[0;32m-> 3298\u001b[0m \u001b[39mraise\u001b[39;00m UnidentifiedImageError(msg)\n",
      "\u001b[0;31mUnidentifiedImageError\u001b[0m: cannot identify image file <_io.BytesIO object at 0x10e7e8d60>"
     ]
    }
   ],
   "source": [
    "import base64\n",
    "from PIL import Image\n",
    "from io import BytesIO\n",
    "\n",
    "# Se tiene que quitar el b' al inicio y el \\\\n al final\n",
    "# image64 = \"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\"\n",
    "image64 = \"/9j/4AAQSkZJRgABAQAAAQABAAD/2wCEABsSFBcUERsXFhceHBsgKEIrKCUlKFE6PTBCYFVlZF9VXVtqeJmBanGQc1tdhbWGkJ6jq62rZ4C8ybqmx5moq6QBHB4eKCMoTisrTqRuXW6kpKSkpKSkpKSkpKSkpKSkpKSkpKSkpKSkpKSkpKSkpKSkpKSkpKSkpKSkpKSkpKSkpP/AABEIAKAA8AMBIgACEQEDEQH/xAGiAAABBQEBAQEBAQAAAAAAAAAAAQIDBAUGBwgJCgsQAAIBAwMCBAMFBQQEAAABfQECAwAEEQUSITFBBhNRYQcicRQygZGhCCNCscEVUtHwJDNicoIJChYXGBkaJSYnKCkqNDU2Nzg5OkNERUZHSElKU1RVVldYWVpjZGVmZ2hpanN0dXZ3eHl6g4SFhoeIiYqSk5SVlpeYmZqio6Slpqeob'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\\n'Oc8VEh+UmqGiOaUg8GlikJYc1FPSQN860irFi5fCim2zAo/1pl4SDTLR/kf60FW0AuQ9OU5cZqGY/NmiNuaAsTXJG01lZ+dhWjMcrWWxxMwqWC0JKSgUGkUITSZpaSgQUvNApRQAlB4pwpkhwh+lAFfy9xJpvlnOKs2q7x0p00e1gaogqtC6jJAx7VHWklu0iHFVJYCjFSOaBWGocilpm1kPIxShqBDqM0lFAC0ZopKAFzRSUtAHTk5FMQ9RTkORSKP3ufaqAgmHFQW5zcKKtXIwpNUoG/f0i0WrnmmWgwXHrzSzHJplscTY9RSLewsyHk1HHkNV5kqJ4x2qrGdyKX7tZEp/ftWrMcCsiU5lY+9SwuTK3FLmoVang1JVx1ApM0ooGLS0lFAC5pkx+XFOzUMjZoEy3pq5XpUl2p3quO9WLKHZApx2pjDzLn2FWJF21jVY+lUtTiUMHA5rSiGEqhqPz5A7UMSKTqskG3A3DkGkisGurcSRMNwOCp606EErg9RS28pt7rYTtjkIzQDRQdWifawwaBzW7qlmLiONosBl9e4rGlt5LdhvXg0EkdLirEYtyoLtg+mKf5lsvQM34YoFcqhWPQU5YXPapjdID8sI/E0hvJf4dq/QUBqf/9k=\"\n",
    "\n",
    "# Decode the base64 string into bytes\n",
    "image_bytes = base64.b64decode(image64)\n",
    "\n",
    "# Open the image using Pillow\n",
    "image = Image.open(BytesIO(image_bytes))\n",
    "\n",
    "# Display or save the image as needed\n",
    "image.show()"
   ]
  },
  {
   "cell_type": "markdown",
   "metadata": {},
   "source": [
    "Get other images"
   ]
  },
  {
   "cell_type": "code",
   "execution_count": 14,
   "metadata": {},
   "outputs": [],
   "source": [
    "import requests\n",
    "from PIL import Image\n",
    "import numpy as np\n",
    "# import face_recognition\n",
    "\n",
    "url = \"https://res.cloudinary.com/dmp6f6f4h/image/upload/v1699420003/tznofd9jswitm5c0bi8k.jpg\"  # Replace with the actual image URL\n",
    "\n",
    "# Send an HTTP GET request to the URL\n",
    "response = requests.get(url)\n",
    "\n",
    "if response.status_code == 200:\n",
    "\n",
    "    # Read the image content and create a PIL Image object\n",
    "    image = Image.open(BytesIO(response.content))\n",
    "    \n",
    "    # Convert the PIL Image to a numpy array\n",
    "    image_np = np.array(image)\n",
    "\n",
    "    # Detect the faces\n",
    "    # face_locations = face_recognition.face_locations(image_np)\n",
    "    # print(f\"Found {len(face_locations)} face(s) in the image.\")\n",
    "\n",
    "else:\n",
    "    print(\"Failed to retrieve the image. Status code:\", response.status_code)\n",
    "\n"
   ]
  },
  {
   "cell_type": "markdown",
   "metadata": {},
   "source": [
    "Planetscale save data"
   ]
  },
  {
   "cell_type": "code",
   "execution_count": null,
   "metadata": {},
   "outputs": [],
   "source": []
  }
 ],
 "metadata": {
  "kernelspec": {
   "display_name": "Python 3",
   "language": "python",
   "name": "python3"
  },
  "language_info": {
   "codemirror_mode": {
    "name": "ipython",
    "version": 3
   },
   "file_extension": ".py",
   "mimetype": "text/x-python",
   "name": "python",
   "nbconvert_exporter": "python",
   "pygments_lexer": "ipython3",
   "version": "3.10.6"
  }
 },
 "nbformat": 4,
 "nbformat_minor": 2
}
